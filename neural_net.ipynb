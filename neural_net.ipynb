# import tensorflow andother packages
import tensorflow as tf
import numpy as np
import matplotlib.pyplot as plt
import random as rand
import time

# desired accuracy of the model
accuracy_target = 0.96

# load data from Mnist
data = tf.keras.datasets.fashion_mnist

# extract data to training and test data sets
(training_images, training_labels),(test_images, test_labels) = data.load_data()

# normalize the data
training_images = training_images / 255.0
test_images = test_images / 255.0


# create a callback to stop the training of the model when accuracy reached 93% (to avoid over fitting)
class myCallback(tf.keras.callbacks.Callback):
  def on_epoch_end(self,epochs,logs={}):
    if(logs.get('accuracy')>accuracy_target):
      self.model.stop_training = True
      print(f"\nHave reached the {accuracy_target*100:}% accuracy, so halting the the training!")

callback = myCallback()

# design the model
model = tf.keras.models.Sequential([
    tf.keras.layers.Flatten(input_shape=(28,28)),
    tf.keras.layers.Dense(128, activation='relu'),
    tf.keras.layers.Dense(10, activation='softmax')
])

# compile the model
model.compile(optimizer='adam', loss='sparse_categorical_crossentropy', metrics=['accuracy'])

# train the model with call back
start_time = time.time()
model.fit(training_images, training_labels, epochs=50,callbacks=[callback] )
end_time = time.time()
print("\nTraining took {} seconds to reach the {}% accuracy desired.".format(round(end_time-start_time), round(accuracy_target*100)))

# evaluate the model
loss, accuracy = model.evaluate(test_images, test_labels)
print("Evaluation Result")
print(f"Accuracy : {accuracy*100:.2f}%")
print(f"Loss     : {loss*100:.2f}%")

