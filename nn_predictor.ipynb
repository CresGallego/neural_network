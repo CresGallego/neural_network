# RUN PREDICTIONS
# to randomly use any of the 10,000 test images for prediction, make avariable to store the random imge number
test_image_number = rand.randint(0, 10000)
print(f"Test image number : {test_image_number}")

# variable to store the array of the 10 category names
category_name = ["T-Shirt", "Trouser", "Pullover", "Dress", "Coat", "Sandal", "Shirt", "Sneaker", "Bag","Ankle Boot"]
print(f"Category Names : {category_name}")

# variable to store the array of 10 probabilities of randomly selected image being predicted by calling the predict() method of the model
classifications = model.predict(test_images)

# using numpy's argmax() method to get the index number of the highest probability in classification array
predicted_label = np.argmax(classifications[test_image_number])
print(f"Predicted label index number :{predicted_label}")

# extract predicted label name using the predicted_label as the index to locate the position in the array of category name
predicted_label_name = category_name[predicted_label]
print(f"Predicted label name : {predicted_label_name}")

# to extract the actual label (number 0 to 9) of the image (of test dataset) being predicted
test_label = test_labels[test_image_number]
print(f"Actual label : {test_label}")

# to extract the actual label name of the image
actual_label_name = category_name[test_label]
print(f"Actual label name : {actual_label_name}")

# to get the value of the probability scorein classification array using test_image_number as outer index and predicted_
probability = round(classifications[test_image_number][predicted_label]*100,1)
print(f"Probability : {probability}%")

# define a function to tell if the prediction is correct or not, probability
def is_predict_correct(predicted_label, test_label):
  if predicted_label == test_label:
    answer = "Correct"
  else:
    answer ="Wrong"

  return answer

answer = is_predict_correct(predicted_label, test_label) #unpack the return values and save as variables

print("\nThe probabilities of classifications for test image number '{}' is the following:\n{}".format(test_image_number,classifications[test_image_number]))
print("\nTest image number '{}' is predicted label to be '{}' and the actual label is '{}'.".format(test_image_number, predicted_label, test_label))
print("Test image number '{}' predicted name is '{}' and the actual name is '{}'!".format(test_image_number, predicted_label_name, actual_label_name))
print("Prediction is '{}' and with '{}%' probability".format(answer, probability))

# show the predicted image
plt.figure(figsize=(2,2))
plt.imshow(test_images[test_image_number])
plt.xticks([])
plt.yticks([])
plt.title("Image Num : {}". format(test_image_number))
plt.xlabel("Predicted : {}\nPrediction : {}\nProbability : {}%".format(predicted_label_name, answer, probability))
plt.ylabel("Actual : {}".format(actual_label_name))
plt.show()